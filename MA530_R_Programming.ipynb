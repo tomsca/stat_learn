{
  "nbformat": 4,
  "nbformat_minor": 0,
  "metadata": {
    "colab": {
      "provenance": []
    },
    "kernelspec": {
      "name": "python3",
      "display_name": "Python 3"
    },
    "language_info": {
      "name": "python"
    }
  },
  "cells": [
    {
      "cell_type": "markdown",
      "source": [
        "# **MA530: Statistical Learning**\n",
        "## **Unit 0: R Programming**\n",
        "### **Unit 0.1: Installing R**\n",
        "\n",
        "- Installing R, the installation process is contingent on the kind of machine you have (e.g. type of operating system, processor 32 or 64 bit, etc.). I recommend running R with RStudio.\n",
        "- I suggest you install R and RStudio Desktop. Install R from the Comprehensive R Archive Network (CRAN). You can access\n",
        "instructions for your specific machine by clicking [here](https://cran.r-project.org/).\n",
        "- Install RStudio Desktop directly from [here!](https://www.rstudio.com/products/rstudio/download/#download).\n",
        "-\n",
        "\n",
        "### **Additional Resources**\n",
        "\n",
        "- Youtube Video on [How to Download and Install RStudio 2023](https://www.youtube.com/watch?v=YrEe2TLr3MI)\n",
        "    - DOWNLOAD RStudio Desktop [Click me!](https://posit.co/download/rstudio-desktop/)\n",
        "\n",
        "### Unit 0.2: R Basics\n",
        "\n",
        "- RStudio interface\n",
        "\n",
        "![RStudio](https://grunwaldlab.github.io/analysis_of_microbiome_community_data_in_r/images/rstudio_console.png)\n",
        "\n",
        "- Using the `print` command\n",
        "`print('hello R world')`"
      ],
      "metadata": {
        "id": "dVt28Q6dKh6e"
      }
    },
    {
      "cell_type": "code",
      "source": [
        "print('hello R world')\n",
        "gender = 'Male'\n",
        "print(myName)"
      ],
      "metadata": {
        "id": "FkrabeLjCvEt"
      },
      "execution_count": null,
      "outputs": []
    },
    {
      "cell_type": "markdown",
      "source": [
        "- **Script:** Complicated code\n",
        "is usually written incrementally and stored in a text file called a **script**. Click `File -> New File -> R` Script to create a new script.\n",
        "- **Assignment Operator:**  The operator `<-` is the assignment operator.\n",
        "- **Working Directory:** The first place your program looks for files. If you would like to find out what your working directory is currently set to, you can use `getwd()`.\n",
        "- You can remove all saved variables by\n",
        "running `rm(list=ls())`.\n",
        "\n"
      ],
      "metadata": {
        "id": "88qaiF99DMrs"
      }
    },
    {
      "cell_type": "code",
      "source": [
        "# Anything coming after the pound/hash-tag symbol\n",
        "# is a comment to the human programmer.\n",
        "# These lines are ignored by R\n",
        "setwd(\"/home/tommy/Desktop/\")"
      ],
      "metadata": {
        "id": "sqn5XzjiGOwY"
      },
      "execution_count": null,
      "outputs": []
    }
  ]
}