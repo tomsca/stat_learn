{
  "nbformat": 4,
  "nbformat_minor": 0,
  "metadata": {
    "colab": {
      "provenance": []
    },
    "kernelspec": {
      "name": "python3",
      "display_name": "Python 3"
    },
    "language_info": {
      "name": "python"
    }
  },
  "cells": [
    {
      "cell_type": "markdown",
      "source": [
        "# **MA530: Statistical Learning**\n",
        "## **Unit 0: R & Python Programming**\n",
        "### **Unit 0.1: Installing R & Python**\n",
        "\n",
        "- Installing both R and Python, the installation process is contingent on the kind of machine you have (e.g. type of operating system, processor 32 or 64 bit, etc.).\n",
        "\n",
        "- I recommend running R with RStudio, and Python with Anaconda, and here are\n",
        "some helpful links.\n",
        "\n",
        "- I recommend downloading these two bundles separately; however,the recommendation below is not the only installation approach.\n",
        "\n",
        "- For example:\n",
        "    - one can run R and Python without downloading RStudio or Anaconda,\n",
        "    - one can install RStudio with Anaconda.\n",
        "    - one can run Python from within Rstudio.\n",
        "    - one can run Python from within Rstudio that is managed by Anaconda, etc.\n",
        "    - One can prefer alternative strategies, if they so wish. If that is the case, they should ensure that Python’s version is >=3.6, and R’s is >=4.0.0.\n",
        "- I recommended you install R and RStudio Desktop.\n",
        "- Install R from the Comprehensive R Archive Network (CRAN). You can access\n",
        "instructions for your specific machine by clicking [here](https://cran.r-project.org/).\n",
        "- Install RStudio Desktop directly from [here!](https://www.rstudio.com/products/rstudio/download/#download).\n",
        "- To get Python, I suggest you install Anaconda. You can access instructions for your specific machine and OS\n",
        "by clicking [here!](https://docs.anaconda.com/anaconda/install/#).\n",
        "\n",
        "### **Additional Resources**\n",
        "\n",
        "- Youtube Video on [How to Download and Install RStudio 2023](https://www.youtube.com/watch?v=YrEe2TLr3MI)\n",
        "    - DOWNLOAD RStudio Desktop [Click me!](https://posit.co/download/rstudio-desktop/)\n",
        "- Youtube Video on [Install Anaconda Python, Jupyter Notebook, Spyder on Windows 10/11 Anaconda Navigator](https://www.youtube.com/watch?v=itVBw_rNYjI)\n",
        "    - Anaconda Distribution [Click me!](https://www.anaconda.com/download)\n",
        "\n",
        "### Unit 0.2: Basics\n",
        "\n",
        "- RStudio interface\n",
        "\n",
        "![RStudio](https://grunwaldlab.github.io/analysis_of_microbiome_community_data_in_r/images/rstudio_console.png)\n",
        "\n",
        "- Using the `print` command\n",
        "`print('hello R world')`"
      ],
      "metadata": {
        "id": "dVt28Q6dKh6e"
      }
    },
    {
      "cell_type": "code",
      "source": [
        "print('hello R world')\n",
        "print('is not incredibly interesting')\n",
        "print('but it would be a pain')\n",
        "print('to type it all directly into the console')\n",
        "myName = 'Taylor'\n",
        "print(myName)"
      ],
      "metadata": {
        "colab": {
          "base_uri": "https://localhost:8080/"
        },
        "id": "FkrabeLjCvEt",
        "outputId": "13c1acf5-73a5-44a0-fcac-0e906839491a"
      },
      "execution_count": null,
      "outputs": [
        {
          "output_type": "stream",
          "name": "stdout",
          "text": [
            "hello R world\n",
            "is not incredibly interesting\n",
            "but it would be a pain\n",
            "to type it all directly into the console\n",
            "Taylor\n"
          ]
        }
      ]
    },
    {
      "cell_type": "markdown",
      "source": [
        "- **Script:** Complicated code\n",
        "is usually written incrementally and stored in a text file called a **script**. Click `File -> New File -> R` Script to create a new script.\n",
        "- **Assignment Operator:**  The operator `<-` is the assignment operator.\n",
        "- **Working Directory:** The first place your program looks for files. If you would like to find out what your working directory is currently set to, you can use `getwd()`.\n",
        "- You can remove all saved variables by\n",
        "running `rm(list=ls())`.\n",
        "\n"
      ],
      "metadata": {
        "id": "88qaiF99DMrs"
      }
    },
    {
      "cell_type": "code",
      "source": [
        "# Anything coming after the pound/hash-tag symbol\n",
        "# is a comment to the human programmer.\n",
        "# These lines are ignored by R\n",
        "setwd(\"/home/tommy/Desktop/\")\n",
        "source(\"awesomeScript.R\")"
      ],
      "metadata": {
        "id": "sqn5XzjiGOwY"
      },
      "execution_count": null,
      "outputs": []
    },
    {
      "cell_type": "code",
      "source": [],
      "metadata": {
        "id": "ZJqJLOldGwcG"
      },
      "execution_count": null,
      "outputs": []
    }
  ]
}